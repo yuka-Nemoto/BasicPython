{
 "cells": [
  {
   "cell_type": "markdown",
   "metadata": {},
   "source": [
    "# Numpyの確認課題"
   ]
  },
  {
   "cell_type": "markdown",
   "metadata": {},
   "source": [
    "## 必要モジュールのインポート\n",
    "\n",
    "この問題で使うモジュールをインポートします．"
   ]
  },
  {
   "cell_type": "code",
   "execution_count": 4,
   "metadata": {},
   "outputs": [],
   "source": [
    "import matplotlib.pyplot as plt\n",
    "import numpy as np\n",
    "\n",
    "np.random.seed(0)"
   ]
  },
  {
   "cell_type": "markdown",
   "metadata": {},
   "source": [
    "---"
   ]
  },
  {
   "cell_type": "markdown",
   "metadata": {},
   "source": [
    "### 問1. `ndarray`の生成\n",
    "\n",
    "以下の2つの`ndarray`を定義しなさい．\n",
    "- 観測値 `x`: 初項`0`，末項`5`，項数`100`の等差数列\n",
    "- ノイズ `noise`: 標準正規分布に従う`100`個の乱数"
   ]
  },
  {
   "cell_type": "code",
   "execution_count": 5,
   "metadata": {},
   "outputs": [
    {
     "name": "stdout",
     "output_type": "stream",
     "text": [
      "[0.         0.05050505 0.1010101  0.15151515 0.2020202  0.25252525\n",
      " 0.3030303  0.35353535 0.4040404  0.45454545 0.50505051 0.55555556\n",
      " 0.60606061 0.65656566 0.70707071 0.75757576 0.80808081 0.85858586\n",
      " 0.90909091 0.95959596 1.01010101 1.06060606 1.11111111 1.16161616\n",
      " 1.21212121 1.26262626 1.31313131 1.36363636 1.41414141 1.46464646\n",
      " 1.51515152 1.56565657 1.61616162 1.66666667 1.71717172 1.76767677\n",
      " 1.81818182 1.86868687 1.91919192 1.96969697 2.02020202 2.07070707\n",
      " 2.12121212 2.17171717 2.22222222 2.27272727 2.32323232 2.37373737\n",
      " 2.42424242 2.47474747 2.52525253 2.57575758 2.62626263 2.67676768\n",
      " 2.72727273 2.77777778 2.82828283 2.87878788 2.92929293 2.97979798\n",
      " 3.03030303 3.08080808 3.13131313 3.18181818 3.23232323 3.28282828\n",
      " 3.33333333 3.38383838 3.43434343 3.48484848 3.53535354 3.58585859\n",
      " 3.63636364 3.68686869 3.73737374 3.78787879 3.83838384 3.88888889\n",
      " 3.93939394 3.98989899 4.04040404 4.09090909 4.14141414 4.19191919\n",
      " 4.24242424 4.29292929 4.34343434 4.39393939 4.44444444 4.49494949\n",
      " 4.54545455 4.5959596  4.64646465 4.6969697  4.74747475 4.7979798\n",
      " 4.84848485 4.8989899  4.94949495 5.        ]\n"
     ]
    },
    {
     "data": {
      "text/plain": [
       "array([[0.5488135 , 0.71518937, 0.60276338, 0.54488318, 0.4236548 ,\n",
       "        0.64589411, 0.43758721, 0.891773  , 0.96366276, 0.38344152,\n",
       "        0.79172504, 0.52889492, 0.56804456, 0.92559664, 0.07103606,\n",
       "        0.0871293 , 0.0202184 , 0.83261985, 0.77815675, 0.87001215,\n",
       "        0.97861834, 0.79915856, 0.46147936, 0.78052918, 0.11827443,\n",
       "        0.63992102, 0.14335329, 0.94466892, 0.52184832, 0.41466194,\n",
       "        0.26455561, 0.77423369, 0.45615033, 0.56843395, 0.0187898 ,\n",
       "        0.6176355 , 0.61209572, 0.616934  , 0.94374808, 0.6818203 ,\n",
       "        0.3595079 , 0.43703195, 0.6976312 , 0.06022547, 0.66676672,\n",
       "        0.67063787, 0.21038256, 0.1289263 , 0.31542835, 0.36371077,\n",
       "        0.57019677, 0.43860151, 0.98837384, 0.10204481, 0.20887676,\n",
       "        0.16130952, 0.65310833, 0.2532916 , 0.46631077, 0.24442559,\n",
       "        0.15896958, 0.11037514, 0.65632959, 0.13818295, 0.19658236,\n",
       "        0.36872517, 0.82099323, 0.09710128, 0.83794491, 0.09609841,\n",
       "        0.97645947, 0.4686512 , 0.97676109, 0.60484552, 0.73926358,\n",
       "        0.03918779, 0.28280696, 0.12019656, 0.2961402 , 0.11872772,\n",
       "        0.31798318, 0.41426299, 0.0641475 , 0.69247212, 0.56660145,\n",
       "        0.26538949, 0.52324805, 0.09394051, 0.5759465 , 0.9292962 ,\n",
       "        0.31856895, 0.66741038, 0.13179786, 0.7163272 , 0.28940609,\n",
       "        0.18319136, 0.58651293, 0.02010755, 0.82894003, 0.00469548]])"
      ]
     },
     "execution_count": 5,
     "metadata": {},
     "output_type": "execute_result"
    }
   ],
   "source": [
    "x = np.linspace(0, 5, 100)\n",
    "noise = np.random.random((1,100))\n",
    "print(x)\n",
    "noise"
   ]
  },
  {
   "cell_type": "markdown",
   "metadata": {},
   "source": [
    "---"
   ]
  },
  {
   "cell_type": "markdown",
   "metadata": {},
   "source": [
    "ここで，真の関数 $y(x) = 3 - 5x + x^2$ を定義します．"
   ]
  },
  {
   "cell_type": "code",
   "execution_count": 6,
   "metadata": {},
   "outputs": [],
   "source": [
    "def y(x):\n",
    "    \"\"\"真の関数\"\"\"\n",
    "    return 3 - 5 * x + x ** 2"
   ]
  },
  {
   "cell_type": "markdown",
   "metadata": {},
   "source": [
    "### 問2． `ndarray`の操作\n",
    "\n",
    "問1で生成した観測値 `x` に対応する目標値 `t` を定義しなさい．\n",
    "\n",
    "目標値 $t$ は， $t = y(x) + \\epsilon$ と表されます．  ( $y$: 真の関数, $\\epsilon$: ノイズ )  \n",
    "実際の観測値にはどうしてもノイズ(観測誤差)が発生してしまいます．今回は，それを`noise`で再現します．\n",
    "\n",
    "問1で観測値を100個生成したので，それぞれに対応する目標値も100個作成する必要がありますが， `for` 文は絶対使ってはいけません．"
   ]
  },
  {
   "cell_type": "code",
   "execution_count": 7,
   "metadata": {},
   "outputs": [
    {
     "data": {
      "text/plain": [
       "array([[0.5488135 , 0.76569442, 0.70377348, 0.69639833, 0.625675  ,\n",
       "        0.89841937, 0.74061751, 1.24530835, 1.36770316, 0.83798697,\n",
       "        1.29677554, 1.08445048, 1.17410517, 1.58216229, 0.77810677,\n",
       "        0.84470506, 0.82829921, 1.6912057 , 1.68724766, 1.82960811,\n",
       "        1.98871935, 1.85976462, 1.57259047, 1.94214534, 1.33039564,\n",
       "        1.90254728, 1.4564846 , 2.30830528, 1.93598974, 1.8793084 ,\n",
       "        1.77970713, 2.33989026, 2.07231195, 2.23510062, 1.73596152,\n",
       "        2.38531226, 2.43027754, 2.48562087, 2.86294   , 2.65151727,\n",
       "        2.37970992, 2.50773902, 2.81884332, 2.23194264, 2.88898894,\n",
       "        2.94336514, 2.53361488, 2.50266367, 2.73967078, 2.83845825,\n",
       "        3.0954493 , 3.01435909, 3.61463646, 2.77881249, 2.93614948,\n",
       "        2.9390873 , 3.48139115, 3.13207948, 3.3956037 , 3.22422357,\n",
       "        3.18927261, 3.19118322, 3.78764272, 3.32000113, 3.42890559,\n",
       "        3.65155345, 4.15432656, 3.48093966, 4.27228834, 3.58094689,\n",
       "        4.511813  , 4.05450979, 4.61312472, 4.29171421, 4.47663732,\n",
       "        3.82706658, 4.1211908 , 4.00908545, 4.23553414, 4.10862671,\n",
       "        4.35838722, 4.50517209, 4.20556164, 4.88439131, 4.8090257 ,\n",
       "        4.55831878, 4.8666824 , 4.4878799 , 5.02039094, 5.42424569,\n",
       "        4.8640235 , 5.26336998, 4.77826251, 5.4132969 , 5.03688084,\n",
       "        4.98117116, 5.43499778, 4.91909745, 5.77843498, 5.00469548]])"
      ]
     },
     "execution_count": 7,
     "metadata": {},
     "output_type": "execute_result"
    }
   ],
   "source": [
    "y=np.array([x])\n",
    "t =np.array(y + noise)\n",
    "t\n"
   ]
  },
  {
   "cell_type": "markdown",
   "metadata": {},
   "source": [
    "matplotlib で可視化すると以下のようなグラフになります．\n",
    "scatter → 散布図"
   ]
  },
  {
   "cell_type": "code",
   "execution_count": 8,
   "metadata": {},
   "outputs": [
    {
     "data": {
      "text/plain": [
       "<matplotlib.collections.PathCollection at 0x15190864560>"
      ]
     },
     "execution_count": 8,
     "metadata": {},
     "output_type": "execute_result"
    },
    {
     "data": {
      "image/png": "[encoded data removed]",
      "text/plain": [
       "<Figure size 640x480 with 1 Axes>"
      ]
     },
     "metadata": {},
     "output_type": "display_data"
    }
   ],
   "source": [
    "plt.scatter(x, t)"
   ]
  },
  {
   "cell_type": "markdown",
   "metadata": {},
   "source": [
    "---"
   ]
  },
  {
   "cell_type": "markdown",
   "metadata": {},
   "source": [
    "### 問3. `ndarray`の結合\n",
    "\n",
    "以下の3つの`ndarray`を垂直方向に結合した2次元配列を転置した行列 `X` を定義しなさい．\n",
    "\n",
    "- x0: 長さが `x` と同じで要素が全て1の`ndarray`\n",
    "- x1: 観測値 `x` の各要素を1乗した`ndarray`\n",
    "- x2: 観測値 `x` の各要素を2乗した`ndarray`\n",
    "\n",
    "例： $x = (1, 2, 3)$ のとき，\n",
    "\n",
    "$$\n",
    "x_0 = (1, 1, 1)\\\\\n",
    "x_1 = (1, 2, 3)\\\\\n",
    "x_2 = (1, 4, 9)\n",
    "$$\n",
    "\n",
    "だから，\n",
    "\n",
    "$$\n",
    "X = \\left(\n",
    "\\begin{array}{ccc}\n",
    "    1 & 1 & 1 \\\\\n",
    "    1 & 2 & 3 \\\\\n",
    "    1 & 4 & 9\n",
    "\\end{array}\n",
    "\\right)^T\n",
    "= \\left(\n",
    "\\begin{array}{ccc}\n",
    "    1 & 1 & 1 \\\\\n",
    "    1 & 2 & 4 \\\\\n",
    "    1 & 3 & 9\n",
    "\\end{array}\n",
    "\\right)\n",
    "$$\n",
    "\n",
    "ちなみに，機械学習では `X` のような行列を計画行列と呼びます．"
   ]
  },
  {
   "cell_type": "code",
   "execution_count": 9,
   "metadata": {},
   "outputs": [
    {
     "data": {
      "text/plain": [
       "array([[1.00000000e+00, 1.00000000e+00, 1.00000000e+00, 1.00000000e+00,\n",
       "        1.00000000e+00, 1.00000000e+00, 1.00000000e+00, 1.00000000e+00,\n",
       "        1.00000000e+00, 1.00000000e+00, 1.00000000e+00, 1.00000000e+00,\n",
       "        1.00000000e+00, 1.00000000e+00, 1.00000000e+00, 1.00000000e+00,\n",
       "        1.00000000e+00, 1.00000000e+00, 1.00000000e+00, 1.00000000e+00,\n",
       "        1.00000000e+00, 1.00000000e+00, 1.00000000e+00, 1.00000000e+00,\n",
       "        1.00000000e+00, 1.00000000e+00, 1.00000000e+00, 1.00000000e+00,\n",
       "        1.00000000e+00, 1.00000000e+00, 1.00000000e+00, 1.00000000e+00,\n",
       "        1.00000000e+00, 1.00000000e+00, 1.00000000e+00, 1.00000000e+00,\n",
       "        1.00000000e+00, 1.00000000e+00, 1.00000000e+00, 1.00000000e+00,\n",
       "        1.00000000e+00, 1.00000000e+00, 1.00000000e+00, 1.00000000e+00,\n",
       "        1.00000000e+00, 1.00000000e+00, 1.00000000e+00, 1.00000000e+00,\n",
       "        1.00000000e+00, 1.00000000e+00, 1.00000000e+00, 1.00000000e+00,\n",
       "        1.00000000e+00, 1.00000000e+00, 1.00000000e+00, 1.00000000e+00,\n",
       "        1.00000000e+00, 1.00000000e+00, 1.00000000e+00, 1.00000000e+00,\n",
       "        1.00000000e+00, 1.00000000e+00, 1.00000000e+00, 1.00000000e+00,\n",
       "        1.00000000e+00, 1.00000000e+00, 1.00000000e+00, 1.00000000e+00,\n",
       "        1.00000000e+00, 1.00000000e+00, 1.00000000e+00, 1.00000000e+00,\n",
       "        1.00000000e+00, 1.00000000e+00, 1.00000000e+00, 1.00000000e+00,\n",
       "        1.00000000e+00, 1.00000000e+00, 1.00000000e+00, 1.00000000e+00,\n",
       "        1.00000000e+00, 1.00000000e+00, 1.00000000e+00, 1.00000000e+00,\n",
       "        1.00000000e+00, 1.00000000e+00, 1.00000000e+00, 1.00000000e+00,\n",
       "        1.00000000e+00, 1.00000000e+00, 1.00000000e+00, 1.00000000e+00,\n",
       "        1.00000000e+00, 1.00000000e+00, 1.00000000e+00, 1.00000000e+00,\n",
       "        1.00000000e+00, 1.00000000e+00, 1.00000000e+00, 1.00000000e+00],\n",
       "       [0.00000000e+00, 5.05050505e-02, 1.01010101e-01, 1.51515152e-01,\n",
       "        2.02020202e-01, 2.52525253e-01, 3.03030303e-01, 3.53535354e-01,\n",
       "        4.04040404e-01, 4.54545455e-01, 5.05050505e-01, 5.55555556e-01,\n",
       "        6.06060606e-01, 6.56565657e-01, 7.07070707e-01, 7.57575758e-01,\n",
       "        8.08080808e-01, 8.58585859e-01, 9.09090909e-01, 9.59595960e-01,\n",
       "        1.01010101e+00, 1.06060606e+00, 1.11111111e+00, 1.16161616e+00,\n",
       "        1.21212121e+00, 1.26262626e+00, 1.31313131e+00, 1.36363636e+00,\n",
       "        1.41414141e+00, 1.46464646e+00, 1.51515152e+00, 1.56565657e+00,\n",
       "        1.61616162e+00, 1.66666667e+00, 1.71717172e+00, 1.76767677e+00,\n",
       "        1.81818182e+00, 1.86868687e+00, 1.91919192e+00, 1.96969697e+00,\n",
       "        2.02020202e+00, 2.07070707e+00, 2.12121212e+00, 2.17171717e+00,\n",
       "        2.22222222e+00, 2.27272727e+00, 2.32323232e+00, 2.37373737e+00,\n",
       "        2.42424242e+00, 2.47474747e+00, 2.52525253e+00, 2.57575758e+00,\n",
       "        2.62626263e+00, 2.67676768e+00, 2.72727273e+00, 2.77777778e+00,\n",
       "        2.82828283e+00, 2.87878788e+00, 2.92929293e+00, 2.97979798e+00,\n",
       "        3.03030303e+00, 3.08080808e+00, 3.13131313e+00, 3.18181818e+00,\n",
       "        3.23232323e+00, 3.28282828e+00, 3.33333333e+00, 3.38383838e+00,\n",
       "        3.43434343e+00, 3.48484848e+00, 3.53535354e+00, 3.58585859e+00,\n",
       "        3.63636364e+00, 3.68686869e+00, 3.73737374e+00, 3.78787879e+00,\n",
       "        3.83838384e+00, 3.88888889e+00, 3.93939394e+00, 3.98989899e+00,\n",
       "        4.04040404e+00, 4.09090909e+00, 4.14141414e+00, 4.19191919e+00,\n",
       "        4.24242424e+00, 4.29292929e+00, 4.34343434e+00, 4.39393939e+00,\n",
       "        4.44444444e+00, 4.49494949e+00, 4.54545455e+00, 4.59595960e+00,\n",
       "        4.64646465e+00, 4.69696970e+00, 4.74747475e+00, 4.79797980e+00,\n",
       "        4.84848485e+00, 4.89898990e+00, 4.94949495e+00, 5.00000000e+00],\n",
       "       [0.00000000e+00, 2.55076013e-03, 1.02030405e-02, 2.29568411e-02,\n",
       "        4.08121620e-02, 6.37690032e-02, 9.18273646e-02, 1.24987246e-01,\n",
       "        1.63248648e-01, 2.06611570e-01, 2.55076013e-01, 3.08641975e-01,\n",
       "        3.67309458e-01, 4.31078461e-01, 4.99948985e-01, 5.73921028e-01,\n",
       "        6.52994592e-01, 7.37169677e-01, 8.26446281e-01, 9.20824406e-01,\n",
       "        1.02030405e+00, 1.12488522e+00, 1.23456790e+00, 1.34935211e+00,\n",
       "        1.46923783e+00, 1.59422508e+00, 1.72431385e+00, 1.85950413e+00,\n",
       "        1.99979594e+00, 2.14518927e+00, 2.29568411e+00, 2.45128048e+00,\n",
       "        2.61197837e+00, 2.77777778e+00, 2.94867871e+00, 3.12468115e+00,\n",
       "        3.30578512e+00, 3.49199061e+00, 3.68329762e+00, 3.87970615e+00,\n",
       "        4.08121620e+00, 4.28782777e+00, 4.49954086e+00, 4.71635547e+00,\n",
       "        4.93827160e+00, 5.16528926e+00, 5.39740843e+00, 5.63462912e+00,\n",
       "        5.87695133e+00, 6.12437506e+00, 6.37690032e+00, 6.63452709e+00,\n",
       "        6.89725538e+00, 7.16508520e+00, 7.43801653e+00, 7.71604938e+00,\n",
       "        7.99918376e+00, 8.28741965e+00, 8.58075707e+00, 8.87919600e+00,\n",
       "        9.18273646e+00, 9.49137843e+00, 9.80512193e+00, 1.01239669e+01,\n",
       "        1.04479135e+01, 1.07769615e+01, 1.11111111e+01, 1.14503622e+01,\n",
       "        1.17947148e+01, 1.21441690e+01, 1.24987246e+01, 1.28583818e+01,\n",
       "        1.32231405e+01, 1.35930007e+01, 1.39679625e+01, 1.43480257e+01,\n",
       "        1.47331905e+01, 1.51234568e+01, 1.55188246e+01, 1.59192939e+01,\n",
       "        1.63248648e+01, 1.67355372e+01, 1.71513111e+01, 1.75721865e+01,\n",
       "        1.79981635e+01, 1.84292419e+01, 1.88654219e+01, 1.93067034e+01,\n",
       "        1.97530864e+01, 2.02045710e+01, 2.06611570e+01, 2.11228446e+01,\n",
       "        2.15896337e+01, 2.20615243e+01, 2.25385165e+01, 2.30206101e+01,\n",
       "        2.35078053e+01, 2.40001020e+01, 2.44975003e+01, 2.50000000e+01]])"
      ]
     },
     "execution_count": 9,
     "metadata": {},
     "output_type": "execute_result"
    }
   ],
   "source": [
    "x0 = np.ones_like(x)\n",
    "x1 = x**1\n",
    "x2 = x**2\n",
    "np.vstack((x0,x1,x2))"
   ]
  },
  {
   "cell_type": "markdown",
   "metadata": {},
   "source": [
    "---"
   ]
  },
  {
   "cell_type": "markdown",
   "metadata": {},
   "source": [
    "### 問4. 線形代数\n",
    "\n",
    "観測値 `x, t` をもとに真の関数 `y` を2次関数で回帰しなさい．\n",
    "\n",
    "任意の2次関数は $y(x) = w_0 + w_1 x + w_2 x^2$ と表すことができます．  \n",
    "なので，パラメータのベクトル $\\mathbf{w} = (w_0, w_1, w_2)$ を求めれば良いことになります．\n",
    "\n",
    "これは以下の正規方程式から求めることができます．\n",
    "\n",
    "$ \\mathbf{w} = (X^T X)^{-1} X^T \\mathbf{t} $\n",
    "\n",
    "この式の導出はdev_data勉強会で学びます．\n",
    "\n",
    "行列の積が多い場合は`np.dot`を使わない方が簡潔に書けます．"
   ]
  },
  {
   "cell_type": "code",
   "execution_count": 11,
   "metadata": {},
   "outputs": [
    {
     "ename": "ValueError",
     "evalue": "matmul: Input operand 1 has a mismatch in its core dimension 0, with gufunc signature (n?,k),(k,m?)->(n?,m?) (size 1 is different from 100)",
     "output_type": "error",
     "traceback": [
      "\u001b[1;31m---------------------------------------------------------------------------\u001b[0m",
      "\u001b[1;31mValueError\u001b[0m                                Traceback (most recent call last)",
      "Cell \u001b[1;32mIn[11], line 2\u001b[0m\n\u001b[0;32m      1\u001b[0m X \u001b[38;5;241m=\u001b[39m np\u001b[38;5;241m.\u001b[39mvstack([np\u001b[38;5;241m.\u001b[39mones_like(x), x, x\u001b[38;5;241m*\u001b[39m\u001b[38;5;241m*\u001b[39m\u001b[38;5;241m2\u001b[39m])\u001b[38;5;241m.\u001b[39mT\n\u001b[1;32m----> 2\u001b[0m w \u001b[38;5;241m=\u001b[39m \u001b[43mnp\u001b[49m\u001b[38;5;241;43m.\u001b[39;49m\u001b[43mlinalg\u001b[49m\u001b[38;5;241;43m.\u001b[39;49m\u001b[43minv\u001b[49m\u001b[43m(\u001b[49m\u001b[43mX\u001b[49m\u001b[38;5;241;43m.\u001b[39;49m\u001b[43mT\u001b[49m\u001b[38;5;129;43m@X\u001b[39;49m\u001b[43m)\u001b[49m\u001b[38;5;129;43m@X\u001b[39;49m\u001b[38;5;241;43m.\u001b[39;49m\u001b[43mT\u001b[49m\u001b[38;5;129;43m@t\u001b[39;49m\n\u001b[0;32m      3\u001b[0m w0, w1, w2 \u001b[38;5;241m=\u001b[39m w\n\u001b[0;32m      4\u001b[0m pred_y \u001b[38;5;241m=\u001b[39m w0 \u001b[38;5;241m+\u001b[39m w1 \u001b[38;5;241m*\u001b[39m x \u001b[38;5;241m+\u001b[39m w2 \u001b[38;5;241m*\u001b[39m x \u001b[38;5;241m*\u001b[39m\u001b[38;5;241m*\u001b[39m \u001b[38;5;241m2\u001b[39m\n",
      "\u001b[1;31mValueError\u001b[0m: matmul: Input operand 1 has a mismatch in its core dimension 0, with gufunc signature (n?,k),(k,m?)->(n?,m?) (size 1 is different from 100)"
     ]
    }
   ],
   "source": [
    "X = np.vstack([np.ones_like(x), x, x**2]).T\n",
    "w = np.linalg.inv(X.T@X)@X.T@t\n",
    "w0, w1, w2 = w\n",
    "pred_y = w0 + w1 * x + w2 * x ** 2"
   ]
  },
  {
   "cell_type": "markdown",
   "metadata": {},
   "source": [
    "---"
   ]
  },
  {
   "cell_type": "markdown",
   "metadata": {},
   "source": [
    "### 結果\n",
    "\n",
    "先ほどのグラフに真の関数(緑)と回帰曲線(赤)を重ねると以下のようになります．"
   ]
  },
  {
   "cell_type": "code",
   "execution_count": null,
   "metadata": {},
   "outputs": [],
   "source": [
    "plt.scatter(x, t)\n",
    "plt.plot(x, pred_y, linewidth=5, color=\"red\", label=\"pred\")\n",
    "plt.plot(x, y(x), linewidth=5, color=\"green\", label=\"true\")\n",
    "plt.legend()"
   ]
  },
  {
   "cell_type": "markdown",
   "metadata": {},
   "source": [
    "今回使った手法は 真の関数 `y` の定義を変更するとその他のコードを全く変更しなくても同様に回帰することができます．\n",
    "\n",
    "例えば以下のように変更したらその関数を回帰します．\n",
    "\n",
    "```python\n",
    "def y(x):\n",
    "    \"\"\"真の関数\"\"\"\n",
    "    return 5 * np.sin(np.pi * x / 5)\n",
    "```\n",
    "dev_data勉強会で詳しくやりますが，この回帰曲線の表現力は2次までです．\n",
    "カーブが2つ以上の曲線を回帰したい場合は問3の計画行列の列数を　`x3, x4...`　のように増やせば表現力が上がります．"
   ]
  },
  {
   "cell_type": "code",
   "execution_count": null,
   "metadata": {},
   "outputs": [],
   "source": []
  }
 ],
 "metadata": {
  "kernelspec": {
   "display_name": "Python 3",
   "language": "python",
   "name": "python3"
  },
  "language_info": {
   "codemirror_mode": {
    "name": "ipython",
    "version": 3
   },
   "file_extension": ".py",
   "mimetype": "text/x-python",
   "name": "python",
   "nbconvert_exporter": "python",
   "pygments_lexer": "ipython3",
   "version": "3.12.3"
  }
 },
 "nbformat": 4,
 "nbformat_minor": 4
}
